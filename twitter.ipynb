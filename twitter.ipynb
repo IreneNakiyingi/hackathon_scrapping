{
 "cells": [
  {
   "cell_type": "code",
   "execution_count": 2,
   "metadata": {},
   "outputs": [
    {
     "name": "stdout",
     "output_type": "stream",
     "text": [
      "Failed to extract from https://twitter.com/THISDAYLIVE/status/1807692428796678425: 'NoneType' object has no attribute 'get_text'\n",
      "Failed to extract from https://twitter.com/agronigeria/status/1841874968310849717: 'NoneType' object has no attribute 'get_text'\n",
      "Failed to extract from https://twitter.com/boinigeria: 'NoneType' object has no attribute 'get_text'\n",
      "Failed to extract from https://twitter.com/fintechf/status/1848381428360249480: 'NoneType' object has no attribute 'get_text'\n",
      "Failed to extract from https://twitter.com/Nairametrics/status/1825561513442029706: 'NoneType' object has no attribute 'get_text'\n",
      "Failed to extract from https://twitter.com/UNDPNigeria/status/1833112145824821379: 'NoneType' object has no attribute 'get_text'\n",
      "Failed to extract from https://twitter.com/Nairametrics/status/1838334578437636202: 'NoneType' object has no attribute 'get_text'\n",
      "Failed to extract from https://twitter.com/UNDPNigeria/status/1826567745749614948: 'NoneType' object has no attribute 'get_text'\n",
      "Failed to extract from https://twitter.com/MastercardSSA/status/1843615093701181639: 'NoneType' object has no attribute 'get_text'\n",
      "Failed to extract from https://twitter.com/Panafricvisions/status/1813253946145927236: 'NoneType' object has no attribute 'get_text'\n"
     ]
    }
   ],
   "source": [
    "import requests\n",
    "from bs4 import BeautifulSoup\n",
    "\n",
    "def scrape_twitter_search(query):\n",
    "    url = f\"https://www.google.com/search?q={query}+site:twitter.com\"\n",
    "    \n",
    "    headers = {\n",
    "        'User-Agent': 'Mozilla/5.0 (Windows NT 10.0; Win64; x64) AppleWebKit/537.36 (KHTML, like Gecko) Chrome/100.0.4896.75 Safari/537.36'\n",
    "    }\n",
    "    \n",
    "    response = requests.get(url, headers=headers)\n",
    "    soup = BeautifulSoup(response.text, 'html.parser')\n",
    "\n",
    "    tweet_links = []\n",
    "    \n",
    "    # Find Twitter links from search results\n",
    "    for g in soup.find_all('div', class_='g'):\n",
    "        link = g.find('a')['href']\n",
    "        if \"twitter.com\" in link:\n",
    "            tweet_links.append(link)\n",
    "\n",
    "    insights = []\n",
    "    \n",
    "    # Extract insights from each tweet link\n",
    "    for tweet_link in tweet_links:\n",
    "        try:\n",
    "            tweet_response = requests.get(tweet_link, headers=headers)\n",
    "            tweet_soup = BeautifulSoup(tweet_response.text, 'html.parser')\n",
    "\n",
    "            # Extract tweet content and user\n",
    "            user = tweet_soup.find('div', {'class': 'css-901oao'}).get_text(strip=True)\n",
    "            tweet_content = tweet_soup.find('div', {'class': 'css-901oao r-1b43r93 r-16dba41'}).get_text(strip=True)\n",
    "\n",
    "            insights.append({\n",
    "                'user': user,\n",
    "                'content': tweet_content,\n",
    "                'link': tweet_link\n",
    "            })\n",
    "\n",
    "        except Exception as e:\n",
    "            print(f\"Failed to extract from {tweet_link}: {e}\")\n",
    "\n",
    "    return insights\n",
    "\n",
    "# Example usage: Scrape insights from tweets related to Nigeria\n",
    "twitter_insights = scrape_twitter_search('Nigeria finance MSMEs')\n",
    "for insight in twitter_insights:\n",
    "    print(f\"User: {insight['user']}\")\n",
    "    print(f\"Content: {insight['content']}\")\n",
    "    print(f\"Link: {insight['link']}\\n\")\n"
   ]
  }
 ],
 "metadata": {
  "kernelspec": {
   "display_name": "Python 3",
   "language": "python",
   "name": "python3"
  },
  "language_info": {
   "codemirror_mode": {
    "name": "ipython",
    "version": 3
   },
   "file_extension": ".py",
   "mimetype": "text/x-python",
   "name": "python",
   "nbconvert_exporter": "python",
   "pygments_lexer": "ipython3",
   "version": "3.12.6"
  }
 },
 "nbformat": 4,
 "nbformat_minor": 2
}
